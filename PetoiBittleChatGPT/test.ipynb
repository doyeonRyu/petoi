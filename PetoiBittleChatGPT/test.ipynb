{
 "cells": [
  {
   "cell_type": "code",
   "execution_count": null,
   "id": "ad33697f",
   "metadata": {},
   "outputs": [],
   "source": [
    "import speech_recognition as sr\n",
    "from Text2SpeechEn import text_to_speech_stream\n",
    "\n",
    "def check_microphone():\n",
    "    \"\"\"시스템에 연결된 마이크 장치를 확인\"\"\"\n",
    "    mic_list = sr.Microphone.list_microphone_names()\n",
    "    if not mic_list:\n",
    "        print(\"❌ 마이크가 감지되지 않았습니다.\")\n",
    "        return None\n",
    "    else:\n",
    "        print(\"🎤 사용 가능한 마이크 목록:\")\n",
    "        for idx, mic_name in enumerate(mic_list):\n",
    "            print(f\"{idx}: {mic_name}\")\n",
    "        return mic_list"
   ]
  },
  {
   "cell_type": "code",
   "execution_count": 6,
   "id": "06e65b15",
   "metadata": {},
   "outputs": [
    {
     "name": "stdout",
     "output_type": "stream",
     "text": [
      "🎤 사용 가능한 마이크 목록:\n",
      "0: Microsoft 사운드 매퍼 - Output\n",
      "1: LG HDR 4K(NVIDIA High Definitio\n",
      "2: Realtek Digital Output(Realtek(\n",
      "3: 주 사운드 드라이버\n",
      "4: LG HDR 4K(NVIDIA High Definition Audio)\n",
      "5: Realtek Digital Output(Realtek(R) Audio)\n",
      "6: LG HDR 4K(NVIDIA High Definition Audio)\n",
      "7: Realtek Digital Output(Realtek(R) Audio)\n",
      "8: 라인 입력 (Realtek HD Audio Line input)\n",
      "9: 스테레오 믹스 (Realtek HD Audio Stereo input)\n",
      "10: Speakers (Realtek HD Audio output)\n",
      "11: 마이크 (Realtek HD Audio Mic input)\n",
      "12: SPDIF Out (Realtek HDA SPDIF Out)\n",
      "13: Output (NVIDIA High Definition Audio)\n",
      "['Microsoft 사운드 매퍼 - Output', 'LG HDR 4K(NVIDIA High Definitio', 'Realtek Digital Output(Realtek(', '주 사운드 드라이버', 'LG HDR 4K(NVIDIA High Definition Audio)', 'Realtek Digital Output(Realtek(R) Audio)', 'LG HDR 4K(NVIDIA High Definition Audio)', 'Realtek Digital Output(Realtek(R) Audio)', '라인 입력 (Realtek HD Audio Line input)', '스테레오 믹스 (Realtek HD Audio Stereo input)', 'Speakers (Realtek HD Audio output)', '마이크 (Realtek HD Audio Mic input)', 'SPDIF Out (Realtek HDA SPDIF Out)', 'Output (NVIDIA High Definition Audio)']\n"
     ]
    }
   ],
   "source": [
    "mic_list = check_microphone()\n",
    "print(mic_list)"
   ]
  },
  {
   "cell_type": "code",
   "execution_count": null,
   "id": "73a78501",
   "metadata": {},
   "outputs": [],
   "source": []
  }
 ],
 "metadata": {
  "kernelspec": {
   "display_name": "petoi",
   "language": "python",
   "name": "python3"
  },
  "language_info": {
   "codemirror_mode": {
    "name": "ipython",
    "version": 3
   },
   "file_extension": ".py",
   "mimetype": "text/x-python",
   "name": "python",
   "nbconvert_exporter": "python",
   "pygments_lexer": "ipython3",
   "version": "3.11.13"
  }
 },
 "nbformat": 4,
 "nbformat_minor": 5
}
